{
  "nbformat": 4,
  "nbformat_minor": 0,
  "metadata": {
    "colab": {
      "name": "Colas1310.ipynb",
      "provenance": [],
      "authorship_tag": "ABX9TyPPh/vPC9q7JvIRCjrv6+hd",
      "include_colab_link": true
    },
    "kernelspec": {
      "name": "python3",
      "display_name": "Python 3"
    },
    "language_info": {
      "name": "python"
    }
  },
  "cells": [
    {
      "cell_type": "markdown",
      "metadata": {
        "id": "view-in-github",
        "colab_type": "text"
      },
      "source": [
        "<a href=\"https://colab.research.google.com/github/AbrilMontiel/Cuestionario14/blob/master/Colas1310.ipynb\" target=\"_parent\"><img src=\"https://colab.research.google.com/assets/colab-badge.svg\" alt=\"Open In Colab\"/></a>"
      ]
    },
    {
      "cell_type": "code",
      "metadata": {
        "id": "gfAJUBIAKAXc"
      },
      "source": [
        "class Queue:\n",
        "  def __init__( self ):\n",
        "    self.data = [ ]\n",
        "\n",
        "  def is_empty( self ):\n",
        "    return len( self.data ) == 0\n",
        "\n",
        "  def length( self ):\n",
        "    return len( self.data )\n",
        "\n",
        "  def enqueue( self, value ):\n",
        "    self.data.append( value )\n",
        "\n",
        "  def dequeue( self ):\n",
        "    return self.data.pop( 0 )\n",
        "\n",
        "  def to_string( self ):\n",
        "    for elem in self.data:\n",
        "      print(f\" | { elem } | <-- \", end=\"\" )\n",
        "    print(\"\")\n"
      ],
      "execution_count": 1,
      "outputs": []
    },
    {
      "cell_type": "code",
      "metadata": {
        "colab": {
          "base_uri": "https://localhost:8080/"
        },
        "id": "m_llaik0Nkd3",
        "outputId": "08a133bc-bd1f-45d7-fabb-938211b84a27"
      },
      "source": [
        "cola = Queue()\n",
        "print(\"Esta vacio?\", cola.is_empty() )\n",
        "print(\"Número de elemntos: \", cola.length() )\n",
        "\n",
        "print(\"---------------------------\")\n",
        "\n",
        "cola.enqueue( 10 )\n",
        "cola.enqueue( 20 )\n",
        "cola.enqueue( 30 )\n",
        "print(\"Esta vacio?\", cola.is_empty() )\n",
        "print(\"Número de elemntos: \", cola.length() )\n",
        "\n",
        "print(\"---------------------------\")\n",
        "\n",
        "cola.enqueue( 40 )\n",
        "cola.enqueue( 50 )\n",
        "cola.enqueue( 60 )\n",
        "cola.to_string()\n",
        "\n",
        "print(\"---------------------------\")\n",
        "\n",
        "siguiente = cola.dequeue()\n",
        "print(\"Atendiendo a: \", siguiente )\n",
        "cola.to_string()"
      ],
      "execution_count": 2,
      "outputs": [
        {
          "output_type": "stream",
          "name": "stdout",
          "text": [
            "Esta vacio? True\n",
            "Número de elemntos:  0\n",
            "---------------------------\n",
            "Esta vacio? False\n",
            "Número de elemntos:  3\n",
            "---------------------------\n",
            " | 10 | <--  | 20 | <--  | 30 | <--  | 40 | <--  | 50 | <--  | 60 | <-- \n",
            "---------------------------\n",
            "Atendiendo a:  10\n",
            " | 20 | <--  | 30 | <--  | 40 | <--  | 50 | <--  | 60 | <-- \n"
          ]
        }
      ]
    },
    {
      "cell_type": "markdown",
      "metadata": {
        "id": "2cybY5azQhlJ"
      },
      "source": [
        "#Variantes del ADT cola\n",
        "1. Circulares.\n",
        "2. Prioridad.\n",
        "  - Acotada.\n",
        "  - No acotada.\n",
        "\n",
        "  \n"
      ]
    },
    {
      "cell_type": "code",
      "metadata": {
        "id": "1jGG1VoKBnaQ"
      },
      "source": [
        "#Implementacion de la cola de pioridad acotada\n",
        "\n",
        "class BoundedPriorityQueue:\n",
        "  def __init__( self, niveles ):\n",
        "    self.__data = [ Queue() for x in range( niveles ) ] \n",
        "    #self.__data = Array( niveles )\n",
        "    #self.__data.clear( Queue() )\n",
        "    self.__size = 0\n",
        "\n",
        "  def is_empty( self ):\n",
        "    return self.__size == 0\n",
        "\n",
        "  def length( self ):\n",
        "    return self.__size\n",
        "\n",
        "  def enqueue( self, prioridad, elem ):\n",
        "    if prioridad < len( self.__data ) and prioridad >= 0:\n",
        "      self.__data[ prioridad ].enqueue( elem )\n",
        "      self.__size +=1\n",
        "\n",
        "  def dequeue( self ):\n",
        "    nivel = 0\n",
        "    while self.__data[ nivel ].is_empty() and nivel < self.length():\n",
        "      nivel += 1\n",
        "\n",
        "    if nivel >= self.length():\n",
        "      print(\"La cola esta vacia\")\n",
        "    else:\n",
        "      return self.__data[ nivel ].dequeue()\n",
        "\n",
        "  def to_string( self ):\n",
        "    prioridad = 0\n",
        "    for cola in self.__data:\n",
        "      print( f\"prioridad { prioridad } --> \", end=\"\"  )\n",
        "      cola.to_string()\n",
        "      prioridad += 1  "
      ],
      "execution_count": 13,
      "outputs": []
    },
    {
      "cell_type": "code",
      "metadata": {
        "colab": {
          "base_uri": "https://localhost:8080/"
        },
        "id": "xX4UU-YLMn1y",
        "outputId": "e3b589dd-52ac-49c7-b121-001e1f3a9101"
      },
      "source": [
        "salvavidas = BoundedPriorityQueue( 7 )\n",
        "salvavidas.enqueue( 4, \"Maestre\" )\n",
        "salvavidas.enqueue( 1, \"Niños\" )\n",
        "salvavidas.enqueue( 4, \"Mecanico\" )\n",
        "salvavidas.enqueue( 3, \"Mujeres\" )\n",
        "salvavidas.enqueue( 2, \"Tercera edad\" )\n",
        "salvavidas.enqueue( 1, \"Niñas\" )\n",
        "salvavidas.enqueue( 3, \"Hombres\" )\n",
        "salvavidas.enqueue( 4, \"Vigia\" )\n",
        "salvavidas.enqueue( 5, \"Capitan\" )\n",
        "salvavidas.enqueue( 4, \"Timonel\" )\n",
        "\n",
        "salvavidas.to_string()\n",
        "\n",
        "print(\"\")\n",
        "sig = salvavidas.dequeue()\n",
        "print(f\"Subiendo { sig } al bote salvavidas\")\n",
        "salvavidas.to_string()\n",
        "\n",
        "print(\"\")\n",
        "sig = salvavidas.dequeue()\n",
        "print(f\"Subiendo { sig } al bote salvavidas\")\n",
        "salvavidas.to_string()"
      ],
      "execution_count": 18,
      "outputs": [
        {
          "output_type": "stream",
          "name": "stdout",
          "text": [
            "prioridad 0 --> \n",
            "prioridad 1 -->  | Niños | <--  | Niñas | <-- \n",
            "prioridad 2 -->  | Tercera edad | <-- \n",
            "prioridad 3 -->  | Mujeres | <--  | Hombres | <-- \n",
            "prioridad 4 -->  | Maestre | <--  | Mecanico | <--  | Vigia | <--  | Timonel | <-- \n",
            "prioridad 5 -->  | Capitan | <-- \n",
            "prioridad 6 --> \n",
            "\n",
            "Subiendo Niños al bote salvavidas\n",
            "prioridad 0 --> \n",
            "prioridad 1 -->  | Niñas | <-- \n",
            "prioridad 2 -->  | Tercera edad | <-- \n",
            "prioridad 3 -->  | Mujeres | <--  | Hombres | <-- \n",
            "prioridad 4 -->  | Maestre | <--  | Mecanico | <--  | Vigia | <--  | Timonel | <-- \n",
            "prioridad 5 -->  | Capitan | <-- \n",
            "prioridad 6 --> \n",
            "\n",
            "Subiendo Niñas al bote salvavidas\n",
            "prioridad 0 --> \n",
            "prioridad 1 --> \n",
            "prioridad 2 -->  | Tercera edad | <-- \n",
            "prioridad 3 -->  | Mujeres | <--  | Hombres | <-- \n",
            "prioridad 4 -->  | Maestre | <--  | Mecanico | <--  | Vigia | <--  | Timonel | <-- \n",
            "prioridad 5 -->  | Capitan | <-- \n",
            "prioridad 6 --> \n"
          ]
        }
      ]
    },
    {
      "cell_type": "code",
      "metadata": {
        "id": "j5o02yViR01H"
      },
      "source": [
        "#IMplementacion de la cola sin acotamineto\n",
        "\n",
        "class PriorityQueue:\n",
        "  def __init__( self ):\n",
        "    self.__data = []\n",
        "    self.__size = 0\n",
        "\n",
        "  def is_empty( self ):\n",
        "    return self.__size == 0\n",
        "\n",
        "  def length( self ):\n",
        "    return self.__size\n",
        "\n",
        "  def enqueue( self, prioridad, elem ):\n",
        "    existe = False\n",
        "    index = 0\n",
        "    for index in range(len( self.__data )):\n",
        "      if self.__data[ index ][ \"prioridad\" ] == prioridad:\n",
        "        existe = True\n",
        "        indice = index\n",
        "\n",
        "    if existe:\n",
        "      self.__data[ indice ][ \"cola\" ].enqueue( elem )\n",
        "    else:\n",
        "       self.__data.append( { \"prioridad\": prioridad, \"cola\": Queue() } )\n",
        "       self.__data[ -1 ][ \"cola\" ].enqueue( elem )\n",
        "\n",
        "  def to_string( self ):\n",
        "     for cola in self.__data:\n",
        "            cola[\"cola\"].to_string()"
      ],
      "execution_count": 24,
      "outputs": []
    },
    {
      "cell_type": "code",
      "metadata": {
        "colab": {
          "base_uri": "https://localhost:8080/"
        },
        "id": "d7s_DrJIS5z7",
        "outputId": "154c0b0f-5df2-46a7-d5a0-a4da0ba1e66e"
      },
      "source": [
        "cp = PriorityQueue()\n",
        "\n",
        "cp.enqueue( 1, \"Niñas\" )\n",
        "cp.enqueue( 2, \"Niños\" )\n",
        "cp.to_string()"
      ],
      "execution_count": 25,
      "outputs": [
        {
          "output_type": "stream",
          "name": "stdout",
          "text": [
            " | Niñas | <-- \n",
            " | Niños | <-- \n"
          ]
        }
      ]
    }
  ]
}